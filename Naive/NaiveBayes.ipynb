{
 "cells": [
  {
   "cell_type": "code",
   "execution_count": 84,
   "metadata": {},
   "outputs": [],
   "source": [
    "import pandas as pd\n",
    "from sklearn.model_selection import train_test_split\n",
    "import numpy as np"
   ]
  },
  {
   "cell_type": "code",
   "execution_count": 85,
   "metadata": {},
   "outputs": [],
   "source": [
    "df = pd.read_csv(r\"C:\\Users\\pedro\\OneDrive\\Desktop\\LMA\\Ciencia de Datos\\ClasificaciónBinaria\\loan_data.csv\")"
   ]
  },
  {
   "cell_type": "code",
   "execution_count": 86,
   "metadata": {},
   "outputs": [
    {
     "name": "stdout",
     "output_type": "stream",
     "text": [
      "<class 'pandas.core.frame.DataFrame'>\n",
      "RangeIndex: 9578 entries, 0 to 9577\n",
      "Data columns (total 14 columns):\n",
      " #   Column             Non-Null Count  Dtype  \n",
      "---  ------             --------------  -----  \n",
      " 0   credit.policy      9578 non-null   int64  \n",
      " 1   purpose            9578 non-null   object \n",
      " 2   int.rate           9578 non-null   float64\n",
      " 3   installment        9578 non-null   float64\n",
      " 4   log.annual.inc     9578 non-null   float64\n",
      " 5   dti                9578 non-null   float64\n",
      " 6   fico               9578 non-null   int64  \n",
      " 7   days.with.cr.line  9578 non-null   float64\n",
      " 8   revol.bal          9578 non-null   int64  \n",
      " 9   revol.util         9578 non-null   float64\n",
      " 10  inq.last.6mths     9578 non-null   int64  \n",
      " 11  delinq.2yrs        9578 non-null   int64  \n",
      " 12  pub.rec            9578 non-null   int64  \n",
      " 13  not.fully.paid     9578 non-null   int64  \n",
      "dtypes: float64(6), int64(7), object(1)\n",
      "memory usage: 1.0+ MB\n"
     ]
    }
   ],
   "source": [
    "df.info()"
   ]
  },
  {
   "cell_type": "code",
   "execution_count": 87,
   "metadata": {},
   "outputs": [
    {
     "data": {
      "text/html": [
       "<div>\n",
       "<style scoped>\n",
       "    .dataframe tbody tr th:only-of-type {\n",
       "        vertical-align: middle;\n",
       "    }\n",
       "\n",
       "    .dataframe tbody tr th {\n",
       "        vertical-align: top;\n",
       "    }\n",
       "\n",
       "    .dataframe thead th {\n",
       "        text-align: right;\n",
       "    }\n",
       "</style>\n",
       "<table border=\"1\" class=\"dataframe\">\n",
       "  <thead>\n",
       "    <tr style=\"text-align: right;\">\n",
       "      <th></th>\n",
       "      <th>credit.policy</th>\n",
       "      <th>purpose</th>\n",
       "      <th>int.rate</th>\n",
       "      <th>installment</th>\n",
       "      <th>log.annual.inc</th>\n",
       "      <th>dti</th>\n",
       "      <th>fico</th>\n",
       "      <th>days.with.cr.line</th>\n",
       "      <th>revol.bal</th>\n",
       "      <th>revol.util</th>\n",
       "      <th>inq.last.6mths</th>\n",
       "      <th>delinq.2yrs</th>\n",
       "      <th>pub.rec</th>\n",
       "      <th>not.fully.paid</th>\n",
       "    </tr>\n",
       "  </thead>\n",
       "  <tbody>\n",
       "    <tr>\n",
       "      <th>0</th>\n",
       "      <td>1</td>\n",
       "      <td>debt_consolidation</td>\n",
       "      <td>0.1189</td>\n",
       "      <td>829.1</td>\n",
       "      <td>11.350407</td>\n",
       "      <td>19.48</td>\n",
       "      <td>737</td>\n",
       "      <td>5639.958333</td>\n",
       "      <td>28854</td>\n",
       "      <td>52.1</td>\n",
       "      <td>0</td>\n",
       "      <td>0</td>\n",
       "      <td>0</td>\n",
       "      <td>0</td>\n",
       "    </tr>\n",
       "  </tbody>\n",
       "</table>\n",
       "</div>"
      ],
      "text/plain": [
       "   credit.policy             purpose  int.rate  installment  log.annual.inc  \\\n",
       "0              1  debt_consolidation    0.1189        829.1       11.350407   \n",
       "\n",
       "     dti  fico  days.with.cr.line  revol.bal  revol.util  inq.last.6mths  \\\n",
       "0  19.48   737        5639.958333      28854        52.1               0   \n",
       "\n",
       "   delinq.2yrs  pub.rec  not.fully.paid  \n",
       "0            0        0               0  "
      ]
     },
     "execution_count": 87,
     "metadata": {},
     "output_type": "execute_result"
    }
   ],
   "source": [
    "df.head(1)"
   ]
  },
  {
   "cell_type": "code",
   "execution_count": 88,
   "metadata": {},
   "outputs": [
    {
     "name": "stdout",
     "output_type": "stream",
     "text": [
      "8045 proporción ->  0.8399457089162664\n",
      "1533 proporción ->  0.16005429108373356\n"
     ]
    }
   ],
   "source": [
    "ncl0 = len(df[df['not.fully.paid'] == 0])\n",
    "ncl1 = len(df[df['not.fully.paid'] == 1])\n",
    "\n",
    "print(ncl0, 'proporción -> ', ncl0/len(df['not.fully.paid']))\n",
    "print(ncl1, 'proporción -> ', ncl1/len(df['not.fully.paid']))"
   ]
  },
  {
   "cell_type": "code",
   "execution_count": 89,
   "metadata": {},
   "outputs": [],
   "source": [
    "ndf = pd.get_dummies(df, prefix='purpose', prefix_sep='_', dummy_na=False, columns=None, sparse=False, drop_first=False, dtype=int)"
   ]
  },
  {
   "cell_type": "code",
   "execution_count": 90,
   "metadata": {},
   "outputs": [],
   "source": [
    "X = ndf.drop('not.fully.paid', axis=1)\n",
    "y = df['not.fully.paid'].values\n",
    "\n",
    "X_train, X_test, y_train, y_test = train_test_split(\n",
    "    X, y, test_size=0.33, random_state=125\n",
    ")\n"
   ]
  },
  {
   "cell_type": "code",
   "execution_count": 91,
   "metadata": {},
   "outputs": [
    {
     "data": {
      "text/plain": [
       "(6417, 19)"
      ]
     },
     "execution_count": 91,
     "metadata": {},
     "output_type": "execute_result"
    }
   ],
   "source": [
    "len(np.array(y_train))\n",
    "X_train.shape"
   ]
  },
  {
   "cell_type": "code",
   "execution_count": 92,
   "metadata": {},
   "outputs": [
    {
     "name": "stdout",
     "output_type": "stream",
     "text": [
      "Media y varianza muestral de la categoria 1:\n",
      "Media : [8.34317343e-01 1.20491827e-01 3.13660410e+02 1.09502368e+01\n",
      " 1.24126402e+01 7.13466790e+02 4.60503674e+03 1.63748397e+04\n",
      " 4.56458358e+01 1.41955720e+00 1.69003690e-01 5.20295203e-02\n",
      " 2.45940959e-01 1.42804428e-01 4.09963100e-01 3.33948339e-02\n",
      " 6.53136531e-02 4.59409594e-02 5.66420664e-02]\n",
      "Varianza :\n",
      "[[ 1.38257423e-01 -2.68504147e-03  5.32704149e+00  6.66755908e-03\n",
      "  -2.13011456e-01  4.57227849e+00  8.40870148e+01 -2.29086418e+03\n",
      "  -9.89293127e-01 -3.86831083e-01 -1.77587537e-02 -4.66460431e-03\n",
      "  -4.45562252e-03  9.66668460e-04  2.42606818e-03 -2.03200574e-03\n",
      "   1.59654189e-03  1.89241217e-03 -3.94062439e-04]\n",
      " [-2.68504147e-03  7.27370265e-04  1.55180896e+00  7.20336173e-04\n",
      "   4.17492432e-02 -7.54140713e-01 -9.70689528e+00  8.50572808e+01\n",
      "   3.80854465e-01  1.03839613e-02  2.56798060e-03  5.66046301e-04\n",
      "  -1.31640613e-03 -4.55983348e-04  1.92261697e-03 -1.33367892e-04\n",
      "  -3.98561839e-04 -4.36199449e-04  8.17901687e-04]\n",
      " [ 5.32704149e+00  1.55180896e+00  4.17886693e+04  5.34481425e+01\n",
      "   8.48390205e+01  6.20295773e+02  9.75147181e+04  1.44026296e+06\n",
      "   5.06170924e+02 -2.05000211e+00 -1.00399062e+00 -1.88227819e+00\n",
      "  -1.67167699e+01 -9.69613771e-01  1.96747093e+01 -3.82950990e+00\n",
      "   7.58681492e-01 -4.23508249e+00  5.31758521e+00]\n",
      " [ 6.66755908e-03  7.20336173e-04  5.34481425e+01  3.65999964e-01\n",
      "  -2.97868237e-01  2.97058751e+00  5.03150323e+02  7.04253397e+03\n",
      "   5.10587785e-01  4.54543695e-02  8.15826936e-03  2.23252914e-03\n",
      "  -1.33595799e-02  1.15990323e-02 -1.03916733e-02 -1.31540604e-02\n",
      "   1.81050559e-02 -3.56322012e-03  1.07644455e-02]\n",
      " [-2.13011456e-01  4.17492432e-02  8.48390205e+01 -2.97868237e-01\n",
      "   4.73772408e+01 -6.52587082e+01  7.25744681e+02  4.34141619e+04\n",
      "   6.71655106e+01  4.41848337e-01 -8.12767010e-02  1.76887724e-02\n",
      "  -3.81636725e-01  2.32985139e-01  5.67627501e-01 -4.66484370e-02\n",
      "  -1.52815028e-01 -1.05611259e-01 -1.13901190e-01]\n",
      " [ 4.57227849e+00 -7.54140713e-01  6.20295773e+02  2.97058751e+00\n",
      "  -6.52587082e+01  1.47683872e+03  2.68583906e+04 -2.89498275e+04\n",
      "  -6.17692701e+02 -1.29203690e+01 -4.93330492e+00 -1.25274676e+00\n",
      "   1.12009031e+00 -1.73518214e-01 -2.90537122e+00 -6.09870695e-02\n",
      "   9.22819055e-01  4.60374492e-01  6.36592650e-01]\n",
      " [ 8.40870148e+01 -9.70689528e+00  9.75147181e+04  5.03150323e+02\n",
      "   7.25744681e+02  2.68583906e+04  6.35254524e+06  1.72737404e+07\n",
      "  -3.79263827e+03 -2.26407133e+02  1.16227405e+02  4.52644196e+01\n",
      "  -4.46070643e+01  3.38085405e+01 -2.33256152e+01 -1.62646367e+01\n",
      "   3.99018720e+01 -8.06436113e+00  1.85512649e+01]\n",
      " [-2.29086418e+03  8.50572808e+01  1.44026296e+06  7.04253397e+03\n",
      "   4.34141619e+04 -2.89498275e+04  1.72737404e+07  9.79216836e+08\n",
      "   1.91270213e+05  1.55550648e+03 -7.23505100e+02 -1.58845689e+02\n",
      "  -9.27529485e+02  6.61789832e+02  2.54427802e+02 -1.94140244e+02\n",
      "   8.48995677e+01 -4.34127344e+02  5.54679871e+02]\n",
      " [-9.89293127e-01  3.80854465e-01  5.06170924e+02  5.10587785e-01\n",
      "   6.71655106e+01 -6.17692701e+02 -3.79263827e+03  1.91270213e+05\n",
      "   8.31015370e+02 -1.00940590e+00 -8.20787154e-01  3.68624157e-01\n",
      "  -1.79049993e+00  9.33349898e-01  2.98897082e+00 -2.76655523e-01\n",
      "  -8.35920995e-01 -6.14174776e-01 -4.05069494e-01]\n",
      " [-3.86831083e-01  1.03839613e-02 -2.05000211e+00  4.54543695e-02\n",
      "   4.41848337e-01 -1.29203690e+01 -2.26407133e+02  1.55550648e+03\n",
      "  -1.00940590e+00  3.95717419e+00  1.80265010e-02  1.71036853e-02\n",
      "   9.36155348e-03 -2.06195367e-02 -3.73235078e-02  6.83892740e-03\n",
      "   1.66962083e-02 -2.67018669e-03  2.77165420e-02]\n",
      " [-1.77587537e-02  2.56798060e-03 -1.00399062e+00  8.15826936e-03\n",
      "  -8.12767010e-02 -4.93330492e+00  1.16227405e+02 -7.23505100e+02\n",
      "  -8.20787154e-01  1.80265010e-02  3.08395021e-01  3.38456531e-03\n",
      "   6.59126798e-03 -2.73276547e-03 -1.94246157e-03 -1.03149435e-03\n",
      "  -1.44441895e-03  2.19931374e-03 -1.63944138e-03]\n",
      " [-4.66460431e-03  5.66046301e-04 -1.88227819e+00  2.23252914e-03\n",
      "   1.76887724e-02 -1.25274676e+00  4.52644196e+01 -1.58845689e+02\n",
      "   3.68624157e-01  1.71036853e-02  3.38456531e-03  5.81892739e-02\n",
      "  -8.03718500e-04  5.03626369e-04  2.47101050e-03 -1.18423015e-03\n",
      "   2.91852706e-04 -7.29904143e-04 -5.48636784e-04]\n",
      " [-4.45562252e-03 -1.31640613e-03 -1.67167699e+01 -1.33595799e-02\n",
      "  -3.81636725e-01  1.12009031e+00 -4.46070643e+01 -9.27529485e+02\n",
      "  -1.79049993e+00  9.36155348e-03  6.59126798e-03 -8.03718500e-04\n",
      "   1.85488227e-01 -3.51279392e-02 -1.00845324e-01 -8.21467312e-03\n",
      "  -1.60662668e-02 -1.13008487e-02 -1.39331749e-02]\n",
      " [ 9.66668460e-04 -4.55983348e-04 -9.69613771e-01  1.15990323e-02\n",
      "   2.32985139e-01 -1.73518214e-01  3.38085405e+01  6.61789832e+02\n",
      "   9.33349898e-01 -2.06195367e-02 -2.73276547e-03  5.03626369e-04\n",
      "  -3.51279392e-02  1.22433913e-01 -5.85553495e-02 -4.76981020e-03\n",
      "  -9.32880006e-03 -6.56178309e-03 -8.09023056e-03]\n",
      " [ 2.42606818e-03  1.92261697e-03  1.96747093e+01 -1.03916733e-02\n",
      "   5.67627501e-01 -2.90537122e+00 -2.33256152e+01  2.54427802e+02\n",
      "   2.98897082e+00 -3.73235078e-02 -1.94246157e-03  2.47101050e-03\n",
      "  -1.00845324e-01 -5.85553495e-02  2.41937995e-01 -1.36931761e-02\n",
      "  -2.67811289e-02 -1.88375737e-02 -2.32254423e-02]\n",
      " [-2.03200574e-03 -1.33367892e-04 -3.82950990e+00 -1.31540604e-02\n",
      "  -4.66484370e-02 -6.09870695e-02 -1.62646367e+01 -1.94140244e+02\n",
      "  -2.76655523e-01  6.83892740e-03 -1.03149435e-03 -1.18423015e-03\n",
      "  -8.21467312e-03 -4.76981020e-03 -1.36931761e-02  3.22855758e-02\n",
      "  -2.18154110e-03 -1.53447382e-03 -1.89190146e-03]\n",
      " [ 1.59654189e-03 -3.98561839e-04  7.58681492e-01  1.81050559e-02\n",
      "  -1.52815028e-01  9.22819055e-01  3.99018720e+01  8.48995677e+01\n",
      "  -8.35920995e-01  1.66962083e-02 -1.44441895e-03  2.91852706e-04\n",
      "  -1.60662668e-02 -9.32880006e-03 -2.67811289e-02 -2.18154110e-03\n",
      "   6.10590454e-02 -3.00112560e-03 -3.70018297e-03]\n",
      " [ 1.89241217e-03 -4.36199449e-04 -4.23508249e+00 -3.56322012e-03\n",
      "  -1.05611259e-01  4.60374492e-01 -8.06436113e+00 -4.34127344e+02\n",
      "  -6.14174776e-01 -2.67018669e-03  2.19931374e-03 -7.29904143e-04\n",
      "  -1.13008487e-02 -6.56178309e-03 -1.88375737e-02 -1.53447382e-03\n",
      "  -3.00112560e-03  4.38384759e-02 -2.60267107e-03]\n",
      " [-3.94062439e-04  8.17901687e-04  5.31758521e+00  1.07644455e-02\n",
      "  -1.13901190e-01  6.36592650e-01  1.85512649e+01  5.54679871e+02\n",
      "  -4.05069494e-01  2.77165420e-02 -1.63944138e-03 -5.48636784e-04\n",
      "  -1.39331749e-02 -8.09023056e-03 -2.32254423e-02 -1.89190146e-03\n",
      "  -3.70018297e-03 -2.60267107e-03  5.34436032e-02]]\n",
      "----------------------------------------------\n",
      "Media y varianza muestral de la categoria 2:\n",
      "Media : [6.51955868e-01 1.31989870e-01 3.26582407e+02 1.08744369e+01\n",
      " 1.28125677e+01 6.97341023e+02 4.39155905e+03 2.11677964e+04\n",
      " 5.18374423e+01 2.31494483e+00 1.96589769e-01 9.62888666e-02\n",
      " 2.64794383e-01 8.62587763e-02 3.90170512e-01 4.31293882e-02\n",
      " 6.92076229e-02 2.80842528e-02 1.18355065e-01]\n",
      "Varianza :\n",
      "[[ 2.27137235e-01 -2.79228438e-03  6.23285673e+00 -1.41850930e-02\n",
      "  -3.54918682e-01  6.05254519e+00  9.88931888e+01 -4.76512616e+03\n",
      "  -7.92778627e-01 -6.90476047e-01 -1.78547691e-02 -8.62225230e-03\n",
      "  -3.12886451e-03  9.35537536e-04  1.39474649e-03 -1.03825533e-03\n",
      "   1.51055576e-05  3.76027681e-03 -1.93854656e-03]\n",
      " [-2.79228438e-03  5.97742056e-04  1.06846466e+00  2.02547184e-03\n",
      "   2.86678764e-02 -4.80093429e-01 -3.75813525e+00  7.74203916e+01\n",
      "   2.30802026e-01  6.43743067e-03  2.16615016e-03  6.09008552e-04\n",
      "  -1.21859998e-03 -9.45068136e-05  1.74237673e-04 -2.48558628e-04\n",
      "  -2.54217875e-04 -1.42887901e-04  1.78453352e-03]\n",
      " [ 6.23285673e+00  1.06846466e+00  4.63656149e+04  7.42641628e+01\n",
      "  -1.38386740e+01  1.54143909e+03  9.83014493e+04  3.15222596e+06\n",
      "  -2.53797522e+02 -2.82853372e+01  3.21080139e+00 -1.68700913e+00\n",
      "  -2.18075457e+01  1.92825600e+00  2.28187108e+00 -3.31957180e+00\n",
      "   4.77653002e+00 -4.22376910e-01  1.65628373e+01]\n",
      " [-1.41850930e-02  2.02547184e-03  7.42641628e+01  4.68951261e-01\n",
      "  -3.07086062e-02  1.94276640e+00  5.57525788e+02  1.56050784e+04\n",
      "   2.02728517e+00  1.60621123e-01  8.25744848e-04  5.04479964e-03\n",
      "  -2.97808694e-02  1.38389737e-02 -1.92679040e-02 -1.28311574e-02\n",
      "   1.53424564e-02 -3.04362363e-03  3.57421244e-02]\n",
      " [-3.54918682e-01  2.86678764e-02 -1.38386740e+01 -3.07086062e-02\n",
      "   4.99717727e+01 -4.14931958e+01  3.00597170e+03  4.77867344e+04\n",
      "   6.41984808e+01  7.12875242e-01 -2.51188022e-01  1.29069780e-01\n",
      "  -3.48461721e-01  7.66558007e-02  7.04469040e-01 -7.56530233e-02\n",
      "  -1.58260212e-01 -1.18777004e-01 -7.99728805e-02]\n",
      " [ 6.05254519e+00 -4.80093429e-01  1.54143909e+03  1.94276640e+00\n",
      "  -4.14931958e+01  1.11680126e+03  1.97773129e+04  1.09673985e+05\n",
      "  -4.03902942e+02 -1.20201619e+01 -3.75184791e+00 -1.58909459e+00\n",
      "   4.81897500e-01 -2.05148578e-01 -2.22656423e+00 -4.68272287e-03\n",
      "   9.60310651e-01  1.51055576e-01  8.43131805e-01]\n",
      " [ 9.88931888e+01 -3.75813525e+00  9.83014493e+04  5.57525788e+02\n",
      "   3.00597170e+03  1.97773129e+04  6.37715122e+06  4.11051048e+07\n",
      "   6.32234698e+03  1.76199087e+02  8.04903455e+01  5.50345525e+01\n",
      "  -1.13499170e+02  4.88740845e+01  5.11536519e+00 -1.24531435e+01\n",
      "   5.23236784e+01 -1.40559188e+01  3.36951039e+01]\n",
      " [-4.76512616e+03  7.74203916e+01  3.15222596e+06  1.56050784e+04\n",
      "   4.77867344e+04  1.09673985e+05  4.11051048e+07  3.16861570e+09\n",
      "   1.90757087e+05  6.54090355e+03 -6.94482020e+02 -7.03981379e+02\n",
      "  -5.53464103e+02  1.74813766e+02 -1.19297670e+03 -3.06867716e+02\n",
      "  -1.81743927e+02 -4.62547489e+02  2.52278617e+03]\n",
      " [-7.92778627e-01  2.30802026e-01 -2.53797522e+02  2.02728517e+00\n",
      "   6.41984808e+01 -4.03902942e+02  6.32234698e+03  1.90757087e+05\n",
      "   8.60424399e+02 -7.60129206e+00 -1.28076174e+00  5.39463390e-01\n",
      "  -8.84020858e-01  7.03694739e-01  2.48688246e+00 -4.28825321e-01\n",
      "  -9.09089880e-01 -5.99646973e-01 -3.68994171e-01]\n",
      " [-6.90476047e-01  6.43743067e-03 -2.82853372e+01  1.60621123e-01\n",
      "   7.12875242e-01 -1.20201619e+01  1.76199087e+02  6.54090355e+03\n",
      "  -7.60129206e+00  7.91075032e+00  1.13160767e-02  1.07194072e-01\n",
      "   3.87004387e-03 -1.81578873e-02 -5.67405026e-02  9.49535353e-03\n",
      "   7.25590426e-02 -1.88940315e-02  7.86798145e-03]\n",
      " [-1.78547691e-02  2.16615016e-03  3.21080139e+00  8.25744848e-04\n",
      "  -2.51188022e-01 -3.75184791e+00  8.04903455e+01 -6.94482020e+02\n",
      "  -1.28076174e+00  1.13160767e-02  3.04687154e-01 -5.89620266e-03\n",
      "  -5.92339267e-03  3.10570265e-03 -7.50343400e-03  1.55285133e-03\n",
      "  -4.58302619e-03  3.50952456e-03  9.84177432e-03]\n",
      " [-8.62225230e-03  6.09008552e-04 -1.68700913e+00  5.04479964e-03\n",
      "   1.29069780e-01 -1.58909459e+00  5.50345525e+01 -7.03981379e+02\n",
      "   5.39463390e-01  1.07194072e-01 -5.89620266e-03  9.11207518e-02\n",
      "  -8.45407709e-03  7.75015810e-03  3.55786234e-03 -1.14500127e-03\n",
      "   1.36151426e-03 -1.70289986e-03 -1.36755648e-03]\n",
      " [-3.12886451e-03 -1.21859998e-03 -2.18075457e+01 -2.97808694e-02\n",
      "  -3.48461721e-01  4.81897500e-01 -1.13499170e+02 -5.53464103e+02\n",
      "  -8.84020858e-01  3.87004387e-03 -5.92339267e-03 -8.45407709e-03\n",
      "   1.94873778e-01 -2.28637720e-02 -1.03418690e-01 -1.14318860e-02\n",
      "  -1.83441892e-02 -7.44401880e-03 -3.13712221e-02]\n",
      " [ 9.35537536e-04 -9.45068136e-05  1.92825600e+00  1.38389737e-02\n",
      "   7.66558007e-02 -2.05148578e-01  4.88740845e+01  1.74813766e+02\n",
      "   7.03694739e-01 -1.81578873e-02  3.10570265e-03  7.75015810e-03\n",
      "  -2.28637720e-02  7.88973346e-02 -3.36894217e-02 -3.72402348e-03\n",
      "  -5.97575860e-03 -2.42494552e-03 -1.02194133e-02]\n",
      " [ 1.39474649e-03  1.74237673e-04  2.28187108e+00 -1.92679040e-02\n",
      "   7.04469040e-01 -2.22656423e+00  5.11536519e+00 -1.19297670e+03\n",
      "   2.48688246e+00 -5.67405026e-02 -7.50343400e-03  3.55786234e-03\n",
      "  -1.03418690e-01 -3.36894217e-02  2.38176377e-01 -1.68447108e-02\n",
      "  -2.70298848e-02 -1.09686489e-02 -4.62250204e-02]\n",
      " [-1.03825533e-03 -2.48558628e-04 -3.31957180e+00 -1.28311574e-02\n",
      "  -7.56530233e-02 -4.68272287e-03 -1.24531435e+01 -3.06867716e+02\n",
      "  -4.28825321e-01  9.49535353e-03  1.55285133e-03 -1.14500127e-03\n",
      "  -1.14318860e-02 -3.72402348e-03 -1.68447108e-02  4.13106790e-02\n",
      "  -2.98787930e-03 -1.21247276e-03 -5.10970663e-03]\n",
      " [ 1.51055576e-05 -2.54217875e-04  4.77653002e+00  1.53424564e-02\n",
      "  -1.58260212e-01  9.60310651e-01  5.23236784e+01 -1.81743927e+02\n",
      "  -9.09089880e-01  7.25590426e-02 -4.58302619e-03  1.36151426e-03\n",
      "  -1.83441892e-02 -5.97575860e-03 -2.70298848e-02 -2.98787930e-03\n",
      "   6.44826044e-02 -1.94559582e-03 -8.19929669e-03]\n",
      " [ 3.76027681e-03 -1.42887901e-04 -4.22376910e-01 -3.04362363e-03\n",
      "  -1.18777004e-01  1.51055576e-01 -1.40559188e+01 -4.62547489e+02\n",
      "  -5.99646973e-01 -1.88940315e-02  3.50952456e-03 -1.70289986e-03\n",
      "  -7.44401880e-03 -2.42494552e-03 -1.09686489e-02 -1.21247276e-03\n",
      "  -1.94559582e-03  2.73229327e-02 -3.32725083e-03]\n",
      " [-1.93854656e-03  1.78453352e-03  1.65628373e+01  3.57421244e-02\n",
      "  -7.99728805e-02  8.43131805e-01  3.36951039e+01  2.52278617e+03\n",
      "  -3.68994171e-01  7.86798145e-03  9.84177432e-03 -1.36755648e-03\n",
      "  -3.13712221e-02 -1.02194133e-02 -4.62250204e-02 -5.10970663e-03\n",
      "  -8.19929669e-03 -3.32725083e-03  1.04451910e-01]]\n",
      "----------------------------------------------\n",
      "Fracción muestral de la categoria 1 : 0.8446314477170017\n",
      "Fracción muestral de la categoria 2 : 0.15536855228299828\n"
     ]
    }
   ],
   "source": [
    "train1 = np.array([X_train.iloc[i] for i in range(len(y_train)) if y_train[i] == 0])\n",
    "train2 = np.array([X_train.iloc[i] for i in range(len(y_train)) if y_train[i] == 1])\n",
    "\n",
    "mean1 = np.mean(train1, axis=0)\n",
    "mean2 = np.mean(train2, axis=0)\n",
    "\n",
    "sigma1 = np.cov(train1, rowvar=False)\n",
    "sigma2 = np.cov(train2, rowvar=False)\n",
    "\n",
    "print('Media y varianza muestral de la categoria 1:')\n",
    "print(f'Media : {mean1}')\n",
    "print('Varianza :')\n",
    "print(sigma1)\n",
    "print('----------------------------------------------')\n",
    "print('Media y varianza muestral de la categoria 2:')\n",
    "print(f'Media : {mean2}')\n",
    "print('Varianza :')\n",
    "print(sigma2)\n",
    "print('----------------------------------------------')\n",
    "\n",
    "fraction_train1 = len(train1)/len(y_train)\n",
    "fraction_train2 = len(train2)/len(y_train)\n",
    "\n",
    "print(f'Fracción muestral de la categoria 1 : {fraction_train1}')\n",
    "print(f'Fracción muestral de la categoria 2 : {fraction_train2}')"
   ]
  },
  {
   "cell_type": "markdown",
   "metadata": {},
   "source": [
    "d"
   ]
  },
  {
   "cell_type": "code",
   "execution_count": 93,
   "metadata": {},
   "outputs": [
    {
     "data": {
      "text/html": [
       "<style>#sk-container-id-1 {color: black;}#sk-container-id-1 pre{padding: 0;}#sk-container-id-1 div.sk-toggleable {background-color: white;}#sk-container-id-1 label.sk-toggleable__label {cursor: pointer;display: block;width: 100%;margin-bottom: 0;padding: 0.3em;box-sizing: border-box;text-align: center;}#sk-container-id-1 label.sk-toggleable__label-arrow:before {content: \"▸\";float: left;margin-right: 0.25em;color: #696969;}#sk-container-id-1 label.sk-toggleable__label-arrow:hover:before {color: black;}#sk-container-id-1 div.sk-estimator:hover label.sk-toggleable__label-arrow:before {color: black;}#sk-container-id-1 div.sk-toggleable__content {max-height: 0;max-width: 0;overflow: hidden;text-align: left;background-color: #f0f8ff;}#sk-container-id-1 div.sk-toggleable__content pre {margin: 0.2em;color: black;border-radius: 0.25em;background-color: #f0f8ff;}#sk-container-id-1 input.sk-toggleable__control:checked~div.sk-toggleable__content {max-height: 200px;max-width: 100%;overflow: auto;}#sk-container-id-1 input.sk-toggleable__control:checked~label.sk-toggleable__label-arrow:before {content: \"▾\";}#sk-container-id-1 div.sk-estimator input.sk-toggleable__control:checked~label.sk-toggleable__label {background-color: #d4ebff;}#sk-container-id-1 div.sk-label input.sk-toggleable__control:checked~label.sk-toggleable__label {background-color: #d4ebff;}#sk-container-id-1 input.sk-hidden--visually {border: 0;clip: rect(1px 1px 1px 1px);clip: rect(1px, 1px, 1px, 1px);height: 1px;margin: -1px;overflow: hidden;padding: 0;position: absolute;width: 1px;}#sk-container-id-1 div.sk-estimator {font-family: monospace;background-color: #f0f8ff;border: 1px dotted black;border-radius: 0.25em;box-sizing: border-box;margin-bottom: 0.5em;}#sk-container-id-1 div.sk-estimator:hover {background-color: #d4ebff;}#sk-container-id-1 div.sk-parallel-item::after {content: \"\";width: 100%;border-bottom: 1px solid gray;flex-grow: 1;}#sk-container-id-1 div.sk-label:hover label.sk-toggleable__label {background-color: #d4ebff;}#sk-container-id-1 div.sk-serial::before {content: \"\";position: absolute;border-left: 1px solid gray;box-sizing: border-box;top: 0;bottom: 0;left: 50%;z-index: 0;}#sk-container-id-1 div.sk-serial {display: flex;flex-direction: column;align-items: center;background-color: white;padding-right: 0.2em;padding-left: 0.2em;position: relative;}#sk-container-id-1 div.sk-item {position: relative;z-index: 1;}#sk-container-id-1 div.sk-parallel {display: flex;align-items: stretch;justify-content: center;background-color: white;position: relative;}#sk-container-id-1 div.sk-item::before, #sk-container-id-1 div.sk-parallel-item::before {content: \"\";position: absolute;border-left: 1px solid gray;box-sizing: border-box;top: 0;bottom: 0;left: 50%;z-index: -1;}#sk-container-id-1 div.sk-parallel-item {display: flex;flex-direction: column;z-index: 1;position: relative;background-color: white;}#sk-container-id-1 div.sk-parallel-item:first-child::after {align-self: flex-end;width: 50%;}#sk-container-id-1 div.sk-parallel-item:last-child::after {align-self: flex-start;width: 50%;}#sk-container-id-1 div.sk-parallel-item:only-child::after {width: 0;}#sk-container-id-1 div.sk-dashed-wrapped {border: 1px dashed gray;margin: 0 0.4em 0.5em 0.4em;box-sizing: border-box;padding-bottom: 0.4em;background-color: white;}#sk-container-id-1 div.sk-label label {font-family: monospace;font-weight: bold;display: inline-block;line-height: 1.2em;}#sk-container-id-1 div.sk-label-container {text-align: center;}#sk-container-id-1 div.sk-container {/* jupyter's `normalize.less` sets `[hidden] { display: none; }` but bootstrap.min.css set `[hidden] { display: none !important; }` so we also need the `!important` here to be able to override the default hidden behavior on the sphinx rendered scikit-learn.org. See: https://github.com/scikit-learn/scikit-learn/issues/21755 */display: inline-block !important;position: relative;}#sk-container-id-1 div.sk-text-repr-fallback {display: none;}</style><div id=\"sk-container-id-1\" class=\"sk-top-container\"><div class=\"sk-text-repr-fallback\"><pre>GaussianNB()</pre><b>In a Jupyter environment, please rerun this cell to show the HTML representation or trust the notebook. <br />On GitHub, the HTML representation is unable to render, please try loading this page with nbviewer.org.</b></div><div class=\"sk-container\" hidden><div class=\"sk-item\"><div class=\"sk-estimator sk-toggleable\"><input class=\"sk-toggleable__control sk-hidden--visually\" id=\"sk-estimator-id-1\" type=\"checkbox\" checked><label for=\"sk-estimator-id-1\" class=\"sk-toggleable__label sk-toggleable__label-arrow\">GaussianNB</label><div class=\"sk-toggleable__content\"><pre>GaussianNB()</pre></div></div></div></div></div>"
      ],
      "text/plain": [
       "GaussianNB()"
      ]
     },
     "execution_count": 93,
     "metadata": {},
     "output_type": "execute_result"
    }
   ],
   "source": [
    "from sklearn.naive_bayes import GaussianNB\n",
    "\n",
    "model = GaussianNB()\n",
    "\n",
    "model.fit(X_train, y_train)"
   ]
  },
  {
   "cell_type": "code",
   "execution_count": 94,
   "metadata": {},
   "outputs": [
    {
     "name": "stdout",
     "output_type": "stream",
     "text": [
      "Accuracy: 0.8206263840556786\n",
      "F1 Score: 0.8686606980013266\n"
     ]
    }
   ],
   "source": [
    "from sklearn.metrics import (\n",
    "    accuracy_score,\n",
    "    confusion_matrix,\n",
    "    ConfusionMatrixDisplay,\n",
    "    f1_score,\n",
    "    classification_report,\n",
    ")\n",
    "\n",
    "y_pred = model.predict(X_test)\n",
    "\n",
    "accuray = accuracy_score(y_pred, y_test)\n",
    "f1 = f1_score(y_pred, y_test, average=\"weighted\")\n",
    "\n",
    "print(\"Accuracy:\", accuray)\n",
    "print(\"F1 Score:\", f1)"
   ]
  },
  {
   "cell_type": "code",
   "execution_count": 95,
   "metadata": {},
   "outputs": [
    {
     "data": {
      "text/plain": [
       "<sklearn.metrics._plot.confusion_matrix.ConfusionMatrixDisplay at 0x13f5c886950>"
      ]
     },
     "execution_count": 95,
     "metadata": {},
     "output_type": "execute_result"
    },
    {
     "data": {
      "image/png": "[encoded data removed]",
      "text/plain": [
       "<Figure size 640x480 with 2 Axes>"
      ]
     },
     "metadata": {},
     "output_type": "display_data"
    }
   ],
   "source": [
    "labels = [\"Fully Paid\", \"Not fully Paid\"]\n",
    "cm = confusion_matrix(y_test, y_pred)\n",
    "disp = ConfusionMatrixDisplay(confusion_matrix=cm, display_labels=labels)\n",
    "disp.plot()"
   ]
  }
 ],
 "metadata": {
  "kernelspec": {
   "display_name": "Python 3",
   "language": "python",
   "name": "python3"
  },
  "language_info": {
   "codemirror_mode": {
    "name": "ipython",
    "version": 3
   },
   "file_extension": ".py",
   "mimetype": "text/x-python",
   "name": "python",
   "nbconvert_exporter": "python",
   "pygments_lexer": "ipython3",
   "version": "3.11.9"
  }
 },
 "nbformat": 4,
 "nbformat_minor": 2
}
